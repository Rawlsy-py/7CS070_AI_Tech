{
 "cells": [
  {
   "cell_type": "markdown",
   "source": [
    "## Task\n",
    "For this week's workshop, you will explore different parameters for the algorithms you have been taught for Regression (Multiple Linear Regression, Support Vector Regression, Decision Tree Regression and Random Forest Regression). Each algorithm has different parameters that you can add and tweak to improve the accuracy. Use the following links and add every parameter to your model functions:\n",
    "\n",
    "- SVR\n",
    "- DTR\n",
    "- RFR\n",
    "\n",
    "Set each parameter to the default value (found in the documentation). Start modifying these values based on the descriptions given and write a short description in your own words as to why the accuracy did or did not change. It is up to you how many you want to try but pick at least three parameters. This will also help your portfolio submission as you are exploring ways of improving your model!\n",
    "\n",
    "Once finished, you should submit your file. If you have multiple Python program files, zip them up and submit as a single file. It would be useful to us if you could write a comment with your submission which questions you struggled on (if any) so we can provide feedback quicker.\n",
    "\n",
    "Further reading - Chapter 4 (Hands-on Machine Learning with Scikit-Learn, Keras, and Tensorflow: Concepts, Tools and Techniques to Build Intelligent Systems).\n",
    "\n",
    "### Grading\n",
    "This assignment is not graded; however, you will receive feedback on your work that will help you develop knowledge and skills that you need in order to be successful in your assessments."
   ],
   "metadata": {
    "collapsed": false
   }
  },
  {
   "cell_type": "code",
   "execution_count": 1,
   "metadata": {
    "collapsed": true
   },
   "outputs": [],
   "source": [
    "# we will be using support vector regression to predict the price of a house\n"
   ]
  },
  {
   "cell_type": "code",
   "execution_count": 2,
   "outputs": [],
   "source": [
    "import pandas as pd\n",
    "import numpy as np\n",
    "import matplotlib.pyplot as plt\n",
    "import seaborn as sns\n",
    "from sklearn.model_selection import train_test_split\n",
    "from sklearn.preprocessing import LabelEncoder\n",
    "from sklearn.preprocessing import StandardScaler\n",
    "from sklearn.svm import SVR\n",
    "from sklearn.metrics import r2_score\n",
    "from sklearn.metrics import mean_squared_error\n",
    "from sklearn.metrics import mean_absolute_error\n",
    "from sklearn.model_selection import cross_val_score"
   ],
   "metadata": {
    "collapsed": false
   }
  },
  {
   "cell_type": "code",
   "execution_count": 3,
   "outputs": [],
   "source": [
    "df = pd.read_csv('ParisHousing.csv')"
   ],
   "metadata": {
    "collapsed": false
   }
  },
  {
   "cell_type": "code",
   "execution_count": 4,
   "outputs": [
    {
     "data": {
      "text/plain": "   squareMeters  numberOfRooms  hasYard  hasPool  floors  cityCode  \\\n0         75523              3        0        1      63      9373   \n1         80771             39        1        1      98     39381   \n2         55712             58        0        1      19     34457   \n3         32316             47        0        0       6     27939   \n4         70429             19        1        1      90     38045   \n\n   cityPartRange  numPrevOwners  made  isNewBuilt  hasStormProtector  \\\n0              3              8  2005           0                  1   \n1              8              6  2015           1                  0   \n2              6              8  2021           0                  0   \n3             10              4  2012           0                  1   \n4              3              7  1990           1                  0   \n\n   basement  attic  garage  hasStorageRoom  hasGuestRoom      price  \n0      4313   9005     956               0             7  7559081.5  \n1      3653   2436     128               1             2  8085989.5  \n2      2937   8852     135               1             9  5574642.1  \n3       659   7141     359               0             3  3232561.2  \n4      8435   2429     292               1             4  7055052.0  ",
      "text/html": "<div>\n<style scoped>\n    .dataframe tbody tr th:only-of-type {\n        vertical-align: middle;\n    }\n\n    .dataframe tbody tr th {\n        vertical-align: top;\n    }\n\n    .dataframe thead th {\n        text-align: right;\n    }\n</style>\n<table border=\"1\" class=\"dataframe\">\n  <thead>\n    <tr style=\"text-align: right;\">\n      <th></th>\n      <th>squareMeters</th>\n      <th>numberOfRooms</th>\n      <th>hasYard</th>\n      <th>hasPool</th>\n      <th>floors</th>\n      <th>cityCode</th>\n      <th>cityPartRange</th>\n      <th>numPrevOwners</th>\n      <th>made</th>\n      <th>isNewBuilt</th>\n      <th>hasStormProtector</th>\n      <th>basement</th>\n      <th>attic</th>\n      <th>garage</th>\n      <th>hasStorageRoom</th>\n      <th>hasGuestRoom</th>\n      <th>price</th>\n    </tr>\n  </thead>\n  <tbody>\n    <tr>\n      <th>0</th>\n      <td>75523</td>\n      <td>3</td>\n      <td>0</td>\n      <td>1</td>\n      <td>63</td>\n      <td>9373</td>\n      <td>3</td>\n      <td>8</td>\n      <td>2005</td>\n      <td>0</td>\n      <td>1</td>\n      <td>4313</td>\n      <td>9005</td>\n      <td>956</td>\n      <td>0</td>\n      <td>7</td>\n      <td>7559081.5</td>\n    </tr>\n    <tr>\n      <th>1</th>\n      <td>80771</td>\n      <td>39</td>\n      <td>1</td>\n      <td>1</td>\n      <td>98</td>\n      <td>39381</td>\n      <td>8</td>\n      <td>6</td>\n      <td>2015</td>\n      <td>1</td>\n      <td>0</td>\n      <td>3653</td>\n      <td>2436</td>\n      <td>128</td>\n      <td>1</td>\n      <td>2</td>\n      <td>8085989.5</td>\n    </tr>\n    <tr>\n      <th>2</th>\n      <td>55712</td>\n      <td>58</td>\n      <td>0</td>\n      <td>1</td>\n      <td>19</td>\n      <td>34457</td>\n      <td>6</td>\n      <td>8</td>\n      <td>2021</td>\n      <td>0</td>\n      <td>0</td>\n      <td>2937</td>\n      <td>8852</td>\n      <td>135</td>\n      <td>1</td>\n      <td>9</td>\n      <td>5574642.1</td>\n    </tr>\n    <tr>\n      <th>3</th>\n      <td>32316</td>\n      <td>47</td>\n      <td>0</td>\n      <td>0</td>\n      <td>6</td>\n      <td>27939</td>\n      <td>10</td>\n      <td>4</td>\n      <td>2012</td>\n      <td>0</td>\n      <td>1</td>\n      <td>659</td>\n      <td>7141</td>\n      <td>359</td>\n      <td>0</td>\n      <td>3</td>\n      <td>3232561.2</td>\n    </tr>\n    <tr>\n      <th>4</th>\n      <td>70429</td>\n      <td>19</td>\n      <td>1</td>\n      <td>1</td>\n      <td>90</td>\n      <td>38045</td>\n      <td>3</td>\n      <td>7</td>\n      <td>1990</td>\n      <td>1</td>\n      <td>0</td>\n      <td>8435</td>\n      <td>2429</td>\n      <td>292</td>\n      <td>1</td>\n      <td>4</td>\n      <td>7055052.0</td>\n    </tr>\n  </tbody>\n</table>\n</div>"
     },
     "execution_count": 4,
     "metadata": {},
     "output_type": "execute_result"
    }
   ],
   "source": [
    "df.head()"
   ],
   "metadata": {
    "collapsed": false
   }
  },
  {
   "cell_type": "code",
   "execution_count": 5,
   "outputs": [
    {
     "name": "stdout",
     "output_type": "stream",
     "text": [
      "<class 'pandas.core.frame.DataFrame'>\n",
      "RangeIndex: 10000 entries, 0 to 9999\n",
      "Data columns (total 17 columns):\n",
      " #   Column             Non-Null Count  Dtype  \n",
      "---  ------             --------------  -----  \n",
      " 0   squareMeters       10000 non-null  int64  \n",
      " 1   numberOfRooms      10000 non-null  int64  \n",
      " 2   hasYard            10000 non-null  int64  \n",
      " 3   hasPool            10000 non-null  int64  \n",
      " 4   floors             10000 non-null  int64  \n",
      " 5   cityCode           10000 non-null  int64  \n",
      " 6   cityPartRange      10000 non-null  int64  \n",
      " 7   numPrevOwners      10000 non-null  int64  \n",
      " 8   made               10000 non-null  int64  \n",
      " 9   isNewBuilt         10000 non-null  int64  \n",
      " 10  hasStormProtector  10000 non-null  int64  \n",
      " 11  basement           10000 non-null  int64  \n",
      " 12  attic              10000 non-null  int64  \n",
      " 13  garage             10000 non-null  int64  \n",
      " 14  hasStorageRoom     10000 non-null  int64  \n",
      " 15  hasGuestRoom       10000 non-null  int64  \n",
      " 16  price              10000 non-null  float64\n",
      "dtypes: float64(1), int64(16)\n",
      "memory usage: 1.3 MB\n"
     ]
    }
   ],
   "source": [
    "df.info()"
   ],
   "metadata": {
    "collapsed": false
   }
  },
  {
   "cell_type": "code",
   "execution_count": 6,
   "outputs": [
    {
     "data": {
      "text/plain": "       squareMeters  numberOfRooms       hasYard       hasPool        floors  \\\ncount   10000.00000   10000.000000  10000.000000  10000.000000  10000.000000   \nmean    49870.13120      50.358400      0.508700      0.496800     50.276300   \nstd     28774.37535      28.816696      0.499949      0.500015     28.889171   \nmin        89.00000       1.000000      0.000000      0.000000      1.000000   \n25%     25098.50000      25.000000      0.000000      0.000000     25.000000   \n50%     50105.50000      50.000000      1.000000      0.000000     50.000000   \n75%     74609.75000      75.000000      1.000000      1.000000     76.000000   \nmax     99999.00000     100.000000      1.000000      1.000000    100.000000   \n\n           cityCode  cityPartRange  numPrevOwners         made    isNewBuilt  \\\ncount  10000.000000   10000.000000   10000.000000  10000.00000  10000.000000   \nmean   50225.486100       5.510100       5.521700   2005.48850      0.499100   \nstd    29006.675799       2.872024       2.856667      9.30809      0.500024   \nmin        3.000000       1.000000       1.000000   1990.00000      0.000000   \n25%    24693.750000       3.000000       3.000000   1997.00000      0.000000   \n50%    50693.000000       5.000000       5.000000   2005.50000      0.000000   \n75%    75683.250000       8.000000       8.000000   2014.00000      1.000000   \nmax    99953.000000      10.000000      10.000000   2021.00000      1.000000   \n\n       hasStormProtector      basement        attic       garage  \\\ncount       10000.000000  10000.000000  10000.00000  10000.00000   \nmean            0.499900   5033.103900   5028.01060    553.12120   \nstd             0.500025   2876.729545   2894.33221    262.05017   \nmin             0.000000      0.000000      1.00000    100.00000   \n25%             0.000000   2559.750000   2512.00000    327.75000   \n50%             0.000000   5092.500000   5045.00000    554.00000   \n75%             1.000000   7511.250000   7540.50000    777.25000   \nmax             1.000000  10000.000000  10000.00000   1000.00000   \n\n       hasStorageRoom  hasGuestRoom         price  \ncount    10000.000000   10000.00000  1.000000e+04  \nmean         0.503000       4.99460  4.993448e+06  \nstd          0.500016       3.17641  2.877424e+06  \nmin          0.000000       0.00000  1.031350e+04  \n25%          0.000000       2.00000  2.516402e+06  \n50%          1.000000       5.00000  5.016180e+06  \n75%          1.000000       8.00000  7.469092e+06  \nmax          1.000000      10.00000  1.000677e+07  ",
      "text/html": "<div>\n<style scoped>\n    .dataframe tbody tr th:only-of-type {\n        vertical-align: middle;\n    }\n\n    .dataframe tbody tr th {\n        vertical-align: top;\n    }\n\n    .dataframe thead th {\n        text-align: right;\n    }\n</style>\n<table border=\"1\" class=\"dataframe\">\n  <thead>\n    <tr style=\"text-align: right;\">\n      <th></th>\n      <th>squareMeters</th>\n      <th>numberOfRooms</th>\n      <th>hasYard</th>\n      <th>hasPool</th>\n      <th>floors</th>\n      <th>cityCode</th>\n      <th>cityPartRange</th>\n      <th>numPrevOwners</th>\n      <th>made</th>\n      <th>isNewBuilt</th>\n      <th>hasStormProtector</th>\n      <th>basement</th>\n      <th>attic</th>\n      <th>garage</th>\n      <th>hasStorageRoom</th>\n      <th>hasGuestRoom</th>\n      <th>price</th>\n    </tr>\n  </thead>\n  <tbody>\n    <tr>\n      <th>count</th>\n      <td>10000.00000</td>\n      <td>10000.000000</td>\n      <td>10000.000000</td>\n      <td>10000.000000</td>\n      <td>10000.000000</td>\n      <td>10000.000000</td>\n      <td>10000.000000</td>\n      <td>10000.000000</td>\n      <td>10000.00000</td>\n      <td>10000.000000</td>\n      <td>10000.000000</td>\n      <td>10000.000000</td>\n      <td>10000.00000</td>\n      <td>10000.00000</td>\n      <td>10000.000000</td>\n      <td>10000.00000</td>\n      <td>1.000000e+04</td>\n    </tr>\n    <tr>\n      <th>mean</th>\n      <td>49870.13120</td>\n      <td>50.358400</td>\n      <td>0.508700</td>\n      <td>0.496800</td>\n      <td>50.276300</td>\n      <td>50225.486100</td>\n      <td>5.510100</td>\n      <td>5.521700</td>\n      <td>2005.48850</td>\n      <td>0.499100</td>\n      <td>0.499900</td>\n      <td>5033.103900</td>\n      <td>5028.01060</td>\n      <td>553.12120</td>\n      <td>0.503000</td>\n      <td>4.99460</td>\n      <td>4.993448e+06</td>\n    </tr>\n    <tr>\n      <th>std</th>\n      <td>28774.37535</td>\n      <td>28.816696</td>\n      <td>0.499949</td>\n      <td>0.500015</td>\n      <td>28.889171</td>\n      <td>29006.675799</td>\n      <td>2.872024</td>\n      <td>2.856667</td>\n      <td>9.30809</td>\n      <td>0.500024</td>\n      <td>0.500025</td>\n      <td>2876.729545</td>\n      <td>2894.33221</td>\n      <td>262.05017</td>\n      <td>0.500016</td>\n      <td>3.17641</td>\n      <td>2.877424e+06</td>\n    </tr>\n    <tr>\n      <th>min</th>\n      <td>89.00000</td>\n      <td>1.000000</td>\n      <td>0.000000</td>\n      <td>0.000000</td>\n      <td>1.000000</td>\n      <td>3.000000</td>\n      <td>1.000000</td>\n      <td>1.000000</td>\n      <td>1990.00000</td>\n      <td>0.000000</td>\n      <td>0.000000</td>\n      <td>0.000000</td>\n      <td>1.00000</td>\n      <td>100.00000</td>\n      <td>0.000000</td>\n      <td>0.00000</td>\n      <td>1.031350e+04</td>\n    </tr>\n    <tr>\n      <th>25%</th>\n      <td>25098.50000</td>\n      <td>25.000000</td>\n      <td>0.000000</td>\n      <td>0.000000</td>\n      <td>25.000000</td>\n      <td>24693.750000</td>\n      <td>3.000000</td>\n      <td>3.000000</td>\n      <td>1997.00000</td>\n      <td>0.000000</td>\n      <td>0.000000</td>\n      <td>2559.750000</td>\n      <td>2512.00000</td>\n      <td>327.75000</td>\n      <td>0.000000</td>\n      <td>2.00000</td>\n      <td>2.516402e+06</td>\n    </tr>\n    <tr>\n      <th>50%</th>\n      <td>50105.50000</td>\n      <td>50.000000</td>\n      <td>1.000000</td>\n      <td>0.000000</td>\n      <td>50.000000</td>\n      <td>50693.000000</td>\n      <td>5.000000</td>\n      <td>5.000000</td>\n      <td>2005.50000</td>\n      <td>0.000000</td>\n      <td>0.000000</td>\n      <td>5092.500000</td>\n      <td>5045.00000</td>\n      <td>554.00000</td>\n      <td>1.000000</td>\n      <td>5.00000</td>\n      <td>5.016180e+06</td>\n    </tr>\n    <tr>\n      <th>75%</th>\n      <td>74609.75000</td>\n      <td>75.000000</td>\n      <td>1.000000</td>\n      <td>1.000000</td>\n      <td>76.000000</td>\n      <td>75683.250000</td>\n      <td>8.000000</td>\n      <td>8.000000</td>\n      <td>2014.00000</td>\n      <td>1.000000</td>\n      <td>1.000000</td>\n      <td>7511.250000</td>\n      <td>7540.50000</td>\n      <td>777.25000</td>\n      <td>1.000000</td>\n      <td>8.00000</td>\n      <td>7.469092e+06</td>\n    </tr>\n    <tr>\n      <th>max</th>\n      <td>99999.00000</td>\n      <td>100.000000</td>\n      <td>1.000000</td>\n      <td>1.000000</td>\n      <td>100.000000</td>\n      <td>99953.000000</td>\n      <td>10.000000</td>\n      <td>10.000000</td>\n      <td>2021.00000</td>\n      <td>1.000000</td>\n      <td>1.000000</td>\n      <td>10000.000000</td>\n      <td>10000.00000</td>\n      <td>1000.00000</td>\n      <td>1.000000</td>\n      <td>10.00000</td>\n      <td>1.000677e+07</td>\n    </tr>\n  </tbody>\n</table>\n</div>"
     },
     "execution_count": 6,
     "metadata": {},
     "output_type": "execute_result"
    }
   ],
   "source": [
    "df.describe()"
   ],
   "metadata": {
    "collapsed": false
   }
  },
  {
   "cell_type": "code",
   "execution_count": 7,
   "outputs": [
    {
     "data": {
      "text/plain": "squareMeters         0\nnumberOfRooms        0\nhasYard              0\nhasPool              0\nfloors               0\ncityCode             0\ncityPartRange        0\nnumPrevOwners        0\nmade                 0\nisNewBuilt           0\nhasStormProtector    0\nbasement             0\nattic                0\ngarage               0\nhasStorageRoom       0\nhasGuestRoom         0\nprice                0\ndtype: int64"
     },
     "execution_count": 7,
     "metadata": {},
     "output_type": "execute_result"
    }
   ],
   "source": [
    "df.isnull().sum()"
   ],
   "metadata": {
    "collapsed": false
   }
  },
  {
   "cell_type": "code",
   "execution_count": null,
   "outputs": [],
   "source": [],
   "metadata": {
    "collapsed": false
   }
  }
 ],
 "metadata": {
  "kernelspec": {
   "display_name": "Python 3",
   "language": "python",
   "name": "python3"
  },
  "language_info": {
   "codemirror_mode": {
    "name": "ipython",
    "version": 2
   },
   "file_extension": ".py",
   "mimetype": "text/x-python",
   "name": "python",
   "nbconvert_exporter": "python",
   "pygments_lexer": "ipython2",
   "version": "2.7.6"
  }
 },
 "nbformat": 4,
 "nbformat_minor": 0
}
