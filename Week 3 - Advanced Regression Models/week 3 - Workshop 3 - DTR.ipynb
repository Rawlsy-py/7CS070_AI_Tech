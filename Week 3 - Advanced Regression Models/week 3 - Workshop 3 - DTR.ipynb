{
 "cells": [
  {
   "cell_type": "markdown",
   "source": [
    "## Task\n",
    "For this week's workshop, you will explore different parameters for the algorithms you have been taught for Regression (Multiple Linear Regression, Support Vector Regression, Decision Tree Regression and Random Forest Regression). Each algorithm has different parameters that you can add and tweak to improve the accuracy. Use the following links and add every parameter to your model functions:\n",
    "\n",
    "- SVR\n",
    "- DTR\n",
    "- RFR\n",
    "\n",
    "Set each parameter to the default value (found in the documentation). Start modifying these values based on the descriptions given and write a short description in your own words as to why the accuracy did or did not change. It is up to you how many you want to try but pick at least three parameters. This will also help your portfolio submission as you are exploring ways of improving your model!\n",
    "\n",
    "Once finished, you should submit your file. If you have multiple Python program files, zip them up and submit as a single file. It would be useful to us if you could write a comment with your submission which questions you struggled on (if any) so we can provide feedback quicker.\n",
    "\n",
    "Further reading - Chapter 4 (Hands-on Machine Learning with Scikit-Learn, Keras, and Tensorflow: Concepts, Tools and Techniques to Build Intelligent Systems).\n",
    "\n",
    "### Grading\n",
    "This assignment is not graded; however, you will receive feedback on your work that will help you develop knowledge and skills that you need in order to be successful in your assessments."
   ],
   "metadata": {
    "collapsed": false
   }
  },
  {
   "cell_type": "markdown",
   "source": [
    "#### Finally we shall use decision tree regression"
   ],
   "metadata": {
    "collapsed": false
   }
  },
  {
   "cell_type": "code",
   "execution_count": 3,
   "outputs": [],
   "source": [
    "import pandas as pd\n",
    "import numpy as np\n",
    "import matplotlib.pyplot as plt\n",
    "import seaborn as sns"
   ],
   "metadata": {
    "collapsed": false,
    "ExecuteTime": {
     "end_time": "2023-06-26T19:50:28.411930Z",
     "start_time": "2023-06-26T19:50:28.396273Z"
    }
   }
  },
  {
   "cell_type": "code",
   "execution_count": 4,
   "outputs": [],
   "source": [
    "df_dtr = pd.read_csv('ParisHousing.csv')"
   ],
   "metadata": {
    "collapsed": false,
    "ExecuteTime": {
     "end_time": "2023-06-26T19:50:28.415398Z",
     "start_time": "2023-06-26T19:50:28.406845Z"
    }
   }
  },
  {
   "cell_type": "code",
   "execution_count": 5,
   "outputs": [
    {
     "data": {
      "text/plain": "   squareMeters  numberOfRooms  hasYard  hasPool  floors  cityCode  \\\n0         75523              3        0        1      63      9373   \n1         80771             39        1        1      98     39381   \n2         55712             58        0        1      19     34457   \n3         32316             47        0        0       6     27939   \n4         70429             19        1        1      90     38045   \n\n   cityPartRange  numPrevOwners  made  isNewBuilt  hasStormProtector  \\\n0              3              8  2005           0                  1   \n1              8              6  2015           1                  0   \n2              6              8  2021           0                  0   \n3             10              4  2012           0                  1   \n4              3              7  1990           1                  0   \n\n   basement  attic  garage  hasStorageRoom  hasGuestRoom      price  \n0      4313   9005     956               0             7  7559081.5  \n1      3653   2436     128               1             2  8085989.5  \n2      2937   8852     135               1             9  5574642.1  \n3       659   7141     359               0             3  3232561.2  \n4      8435   2429     292               1             4  7055052.0  ",
      "text/html": "<div>\n<style scoped>\n    .dataframe tbody tr th:only-of-type {\n        vertical-align: middle;\n    }\n\n    .dataframe tbody tr th {\n        vertical-align: top;\n    }\n\n    .dataframe thead th {\n        text-align: right;\n    }\n</style>\n<table border=\"1\" class=\"dataframe\">\n  <thead>\n    <tr style=\"text-align: right;\">\n      <th></th>\n      <th>squareMeters</th>\n      <th>numberOfRooms</th>\n      <th>hasYard</th>\n      <th>hasPool</th>\n      <th>floors</th>\n      <th>cityCode</th>\n      <th>cityPartRange</th>\n      <th>numPrevOwners</th>\n      <th>made</th>\n      <th>isNewBuilt</th>\n      <th>hasStormProtector</th>\n      <th>basement</th>\n      <th>attic</th>\n      <th>garage</th>\n      <th>hasStorageRoom</th>\n      <th>hasGuestRoom</th>\n      <th>price</th>\n    </tr>\n  </thead>\n  <tbody>\n    <tr>\n      <th>0</th>\n      <td>75523</td>\n      <td>3</td>\n      <td>0</td>\n      <td>1</td>\n      <td>63</td>\n      <td>9373</td>\n      <td>3</td>\n      <td>8</td>\n      <td>2005</td>\n      <td>0</td>\n      <td>1</td>\n      <td>4313</td>\n      <td>9005</td>\n      <td>956</td>\n      <td>0</td>\n      <td>7</td>\n      <td>7559081.5</td>\n    </tr>\n    <tr>\n      <th>1</th>\n      <td>80771</td>\n      <td>39</td>\n      <td>1</td>\n      <td>1</td>\n      <td>98</td>\n      <td>39381</td>\n      <td>8</td>\n      <td>6</td>\n      <td>2015</td>\n      <td>1</td>\n      <td>0</td>\n      <td>3653</td>\n      <td>2436</td>\n      <td>128</td>\n      <td>1</td>\n      <td>2</td>\n      <td>8085989.5</td>\n    </tr>\n    <tr>\n      <th>2</th>\n      <td>55712</td>\n      <td>58</td>\n      <td>0</td>\n      <td>1</td>\n      <td>19</td>\n      <td>34457</td>\n      <td>6</td>\n      <td>8</td>\n      <td>2021</td>\n      <td>0</td>\n      <td>0</td>\n      <td>2937</td>\n      <td>8852</td>\n      <td>135</td>\n      <td>1</td>\n      <td>9</td>\n      <td>5574642.1</td>\n    </tr>\n    <tr>\n      <th>3</th>\n      <td>32316</td>\n      <td>47</td>\n      <td>0</td>\n      <td>0</td>\n      <td>6</td>\n      <td>27939</td>\n      <td>10</td>\n      <td>4</td>\n      <td>2012</td>\n      <td>0</td>\n      <td>1</td>\n      <td>659</td>\n      <td>7141</td>\n      <td>359</td>\n      <td>0</td>\n      <td>3</td>\n      <td>3232561.2</td>\n    </tr>\n    <tr>\n      <th>4</th>\n      <td>70429</td>\n      <td>19</td>\n      <td>1</td>\n      <td>1</td>\n      <td>90</td>\n      <td>38045</td>\n      <td>3</td>\n      <td>7</td>\n      <td>1990</td>\n      <td>1</td>\n      <td>0</td>\n      <td>8435</td>\n      <td>2429</td>\n      <td>292</td>\n      <td>1</td>\n      <td>4</td>\n      <td>7055052.0</td>\n    </tr>\n  </tbody>\n</table>\n</div>"
     },
     "execution_count": 5,
     "metadata": {},
     "output_type": "execute_result"
    }
   ],
   "source": [
    "df_dtr.head()"
   ],
   "metadata": {
    "collapsed": false,
    "ExecuteTime": {
     "end_time": "2023-06-26T19:50:30.943911Z",
     "start_time": "2023-06-26T19:50:30.889694Z"
    }
   }
  },
  {
   "cell_type": "code",
   "execution_count": 6,
   "outputs": [
    {
     "name": "stdout",
     "output_type": "stream",
     "text": [
      "<class 'pandas.core.frame.DataFrame'>\n",
      "RangeIndex: 10000 entries, 0 to 9999\n",
      "Data columns (total 17 columns):\n",
      " #   Column             Non-Null Count  Dtype  \n",
      "---  ------             --------------  -----  \n",
      " 0   squareMeters       10000 non-null  int64  \n",
      " 1   numberOfRooms      10000 non-null  int64  \n",
      " 2   hasYard            10000 non-null  int64  \n",
      " 3   hasPool            10000 non-null  int64  \n",
      " 4   floors             10000 non-null  int64  \n",
      " 5   cityCode           10000 non-null  int64  \n",
      " 6   cityPartRange      10000 non-null  int64  \n",
      " 7   numPrevOwners      10000 non-null  int64  \n",
      " 8   made               10000 non-null  int64  \n",
      " 9   isNewBuilt         10000 non-null  int64  \n",
      " 10  hasStormProtector  10000 non-null  int64  \n",
      " 11  basement           10000 non-null  int64  \n",
      " 12  attic              10000 non-null  int64  \n",
      " 13  garage             10000 non-null  int64  \n",
      " 14  hasStorageRoom     10000 non-null  int64  \n",
      " 15  hasGuestRoom       10000 non-null  int64  \n",
      " 16  price              10000 non-null  float64\n",
      "dtypes: float64(1), int64(16)\n",
      "memory usage: 1.3 MB\n"
     ]
    }
   ],
   "source": [
    "df_dtr.info()"
   ],
   "metadata": {
    "collapsed": false,
    "ExecuteTime": {
     "end_time": "2023-06-26T19:50:32.577313Z",
     "start_time": "2023-06-26T19:50:32.566184Z"
    }
   }
  },
  {
   "cell_type": "code",
   "execution_count": 7,
   "outputs": [
    {
     "data": {
      "text/plain": "       squareMeters  numberOfRooms       hasYard       hasPool        floors  \\\ncount   10000.00000   10000.000000  10000.000000  10000.000000  10000.000000   \nmean    49870.13120      50.358400      0.508700      0.496800     50.276300   \nstd     28774.37535      28.816696      0.499949      0.500015     28.889171   \nmin        89.00000       1.000000      0.000000      0.000000      1.000000   \n25%     25098.50000      25.000000      0.000000      0.000000     25.000000   \n50%     50105.50000      50.000000      1.000000      0.000000     50.000000   \n75%     74609.75000      75.000000      1.000000      1.000000     76.000000   \nmax     99999.00000     100.000000      1.000000      1.000000    100.000000   \n\n           cityCode  cityPartRange  numPrevOwners         made    isNewBuilt  \\\ncount  10000.000000   10000.000000   10000.000000  10000.00000  10000.000000   \nmean   50225.486100       5.510100       5.521700   2005.48850      0.499100   \nstd    29006.675799       2.872024       2.856667      9.30809      0.500024   \nmin        3.000000       1.000000       1.000000   1990.00000      0.000000   \n25%    24693.750000       3.000000       3.000000   1997.00000      0.000000   \n50%    50693.000000       5.000000       5.000000   2005.50000      0.000000   \n75%    75683.250000       8.000000       8.000000   2014.00000      1.000000   \nmax    99953.000000      10.000000      10.000000   2021.00000      1.000000   \n\n       hasStormProtector      basement        attic       garage  \\\ncount       10000.000000  10000.000000  10000.00000  10000.00000   \nmean            0.499900   5033.103900   5028.01060    553.12120   \nstd             0.500025   2876.729545   2894.33221    262.05017   \nmin             0.000000      0.000000      1.00000    100.00000   \n25%             0.000000   2559.750000   2512.00000    327.75000   \n50%             0.000000   5092.500000   5045.00000    554.00000   \n75%             1.000000   7511.250000   7540.50000    777.25000   \nmax             1.000000  10000.000000  10000.00000   1000.00000   \n\n       hasStorageRoom  hasGuestRoom         price  \ncount    10000.000000   10000.00000  1.000000e+04  \nmean         0.503000       4.99460  4.993448e+06  \nstd          0.500016       3.17641  2.877424e+06  \nmin          0.000000       0.00000  1.031350e+04  \n25%          0.000000       2.00000  2.516402e+06  \n50%          1.000000       5.00000  5.016180e+06  \n75%          1.000000       8.00000  7.469092e+06  \nmax          1.000000      10.00000  1.000677e+07  ",
      "text/html": "<div>\n<style scoped>\n    .dataframe tbody tr th:only-of-type {\n        vertical-align: middle;\n    }\n\n    .dataframe tbody tr th {\n        vertical-align: top;\n    }\n\n    .dataframe thead th {\n        text-align: right;\n    }\n</style>\n<table border=\"1\" class=\"dataframe\">\n  <thead>\n    <tr style=\"text-align: right;\">\n      <th></th>\n      <th>squareMeters</th>\n      <th>numberOfRooms</th>\n      <th>hasYard</th>\n      <th>hasPool</th>\n      <th>floors</th>\n      <th>cityCode</th>\n      <th>cityPartRange</th>\n      <th>numPrevOwners</th>\n      <th>made</th>\n      <th>isNewBuilt</th>\n      <th>hasStormProtector</th>\n      <th>basement</th>\n      <th>attic</th>\n      <th>garage</th>\n      <th>hasStorageRoom</th>\n      <th>hasGuestRoom</th>\n      <th>price</th>\n    </tr>\n  </thead>\n  <tbody>\n    <tr>\n      <th>count</th>\n      <td>10000.00000</td>\n      <td>10000.000000</td>\n      <td>10000.000000</td>\n      <td>10000.000000</td>\n      <td>10000.000000</td>\n      <td>10000.000000</td>\n      <td>10000.000000</td>\n      <td>10000.000000</td>\n      <td>10000.00000</td>\n      <td>10000.000000</td>\n      <td>10000.000000</td>\n      <td>10000.000000</td>\n      <td>10000.00000</td>\n      <td>10000.00000</td>\n      <td>10000.000000</td>\n      <td>10000.00000</td>\n      <td>1.000000e+04</td>\n    </tr>\n    <tr>\n      <th>mean</th>\n      <td>49870.13120</td>\n      <td>50.358400</td>\n      <td>0.508700</td>\n      <td>0.496800</td>\n      <td>50.276300</td>\n      <td>50225.486100</td>\n      <td>5.510100</td>\n      <td>5.521700</td>\n      <td>2005.48850</td>\n      <td>0.499100</td>\n      <td>0.499900</td>\n      <td>5033.103900</td>\n      <td>5028.01060</td>\n      <td>553.12120</td>\n      <td>0.503000</td>\n      <td>4.99460</td>\n      <td>4.993448e+06</td>\n    </tr>\n    <tr>\n      <th>std</th>\n      <td>28774.37535</td>\n      <td>28.816696</td>\n      <td>0.499949</td>\n      <td>0.500015</td>\n      <td>28.889171</td>\n      <td>29006.675799</td>\n      <td>2.872024</td>\n      <td>2.856667</td>\n      <td>9.30809</td>\n      <td>0.500024</td>\n      <td>0.500025</td>\n      <td>2876.729545</td>\n      <td>2894.33221</td>\n      <td>262.05017</td>\n      <td>0.500016</td>\n      <td>3.17641</td>\n      <td>2.877424e+06</td>\n    </tr>\n    <tr>\n      <th>min</th>\n      <td>89.00000</td>\n      <td>1.000000</td>\n      <td>0.000000</td>\n      <td>0.000000</td>\n      <td>1.000000</td>\n      <td>3.000000</td>\n      <td>1.000000</td>\n      <td>1.000000</td>\n      <td>1990.00000</td>\n      <td>0.000000</td>\n      <td>0.000000</td>\n      <td>0.000000</td>\n      <td>1.00000</td>\n      <td>100.00000</td>\n      <td>0.000000</td>\n      <td>0.00000</td>\n      <td>1.031350e+04</td>\n    </tr>\n    <tr>\n      <th>25%</th>\n      <td>25098.50000</td>\n      <td>25.000000</td>\n      <td>0.000000</td>\n      <td>0.000000</td>\n      <td>25.000000</td>\n      <td>24693.750000</td>\n      <td>3.000000</td>\n      <td>3.000000</td>\n      <td>1997.00000</td>\n      <td>0.000000</td>\n      <td>0.000000</td>\n      <td>2559.750000</td>\n      <td>2512.00000</td>\n      <td>327.75000</td>\n      <td>0.000000</td>\n      <td>2.00000</td>\n      <td>2.516402e+06</td>\n    </tr>\n    <tr>\n      <th>50%</th>\n      <td>50105.50000</td>\n      <td>50.000000</td>\n      <td>1.000000</td>\n      <td>0.000000</td>\n      <td>50.000000</td>\n      <td>50693.000000</td>\n      <td>5.000000</td>\n      <td>5.000000</td>\n      <td>2005.50000</td>\n      <td>0.000000</td>\n      <td>0.000000</td>\n      <td>5092.500000</td>\n      <td>5045.00000</td>\n      <td>554.00000</td>\n      <td>1.000000</td>\n      <td>5.00000</td>\n      <td>5.016180e+06</td>\n    </tr>\n    <tr>\n      <th>75%</th>\n      <td>74609.75000</td>\n      <td>75.000000</td>\n      <td>1.000000</td>\n      <td>1.000000</td>\n      <td>76.000000</td>\n      <td>75683.250000</td>\n      <td>8.000000</td>\n      <td>8.000000</td>\n      <td>2014.00000</td>\n      <td>1.000000</td>\n      <td>1.000000</td>\n      <td>7511.250000</td>\n      <td>7540.50000</td>\n      <td>777.25000</td>\n      <td>1.000000</td>\n      <td>8.00000</td>\n      <td>7.469092e+06</td>\n    </tr>\n    <tr>\n      <th>max</th>\n      <td>99999.00000</td>\n      <td>100.000000</td>\n      <td>1.000000</td>\n      <td>1.000000</td>\n      <td>100.000000</td>\n      <td>99953.000000</td>\n      <td>10.000000</td>\n      <td>10.000000</td>\n      <td>2021.00000</td>\n      <td>1.000000</td>\n      <td>1.000000</td>\n      <td>10000.000000</td>\n      <td>10000.00000</td>\n      <td>1000.00000</td>\n      <td>1.000000</td>\n      <td>10.00000</td>\n      <td>1.000677e+07</td>\n    </tr>\n  </tbody>\n</table>\n</div>"
     },
     "execution_count": 7,
     "metadata": {},
     "output_type": "execute_result"
    }
   ],
   "source": [
    "df_dtr.describe()"
   ],
   "metadata": {
    "collapsed": false,
    "ExecuteTime": {
     "end_time": "2023-06-26T19:50:34.415734Z",
     "start_time": "2023-06-26T19:50:34.396507Z"
    }
   }
  },
  {
   "cell_type": "markdown",
   "source": [
    "### Feature Engineering"
   ],
   "metadata": {
    "collapsed": false
   }
  },
  {
   "cell_type": "code",
   "execution_count": 12,
   "outputs": [
    {
     "data": {
      "text/plain": "Index(['squareMeters', 'numberOfRooms', 'hasYard', 'hasPool', 'floors',\n       'cityCode', 'cityPartRange', 'numPrevOwners', 'made', 'isNewBuilt',\n       'hasStormProtector', 'basement', 'attic', 'garage', 'hasStorageRoom',\n       'hasGuestRoom', 'price'],\n      dtype='object')"
     },
     "execution_count": 12,
     "metadata": {},
     "output_type": "execute_result"
    }
   ],
   "source": [
    "df_dtr.columns"
   ],
   "metadata": {
    "collapsed": false,
    "ExecuteTime": {
     "end_time": "2023-06-26T19:51:19.439860Z",
     "start_time": "2023-06-26T19:51:19.434310Z"
    }
   }
  },
  {
   "cell_type": "code",
   "execution_count": 13,
   "outputs": [],
   "source": [
    "df_dtr.drop(['numberOfRooms', 'hasYard', 'hasPool', 'floors',\n",
    "       'cityCode', 'cityPartRange', 'numPrevOwners', 'made', 'isNewBuilt',\n",
    "       'hasStormProtector', 'basement', 'attic',\n",
    "       'hasStorageRoom', 'hasGuestRoom'], axis=1, inplace=True)"
   ],
   "metadata": {
    "collapsed": false,
    "ExecuteTime": {
     "end_time": "2023-06-26T19:52:16.138700Z",
     "start_time": "2023-06-26T19:52:16.132611Z"
    }
   }
  },
  {
   "cell_type": "code",
   "execution_count": 14,
   "outputs": [
    {
     "data": {
      "text/plain": "   squareMeters  garage      price\n0         75523     956  7559081.5\n1         80771     128  8085989.5\n2         55712     135  5574642.1\n3         32316     359  3232561.2\n4         70429     292  7055052.0",
      "text/html": "<div>\n<style scoped>\n    .dataframe tbody tr th:only-of-type {\n        vertical-align: middle;\n    }\n\n    .dataframe tbody tr th {\n        vertical-align: top;\n    }\n\n    .dataframe thead th {\n        text-align: right;\n    }\n</style>\n<table border=\"1\" class=\"dataframe\">\n  <thead>\n    <tr style=\"text-align: right;\">\n      <th></th>\n      <th>squareMeters</th>\n      <th>garage</th>\n      <th>price</th>\n    </tr>\n  </thead>\n  <tbody>\n    <tr>\n      <th>0</th>\n      <td>75523</td>\n      <td>956</td>\n      <td>7559081.5</td>\n    </tr>\n    <tr>\n      <th>1</th>\n      <td>80771</td>\n      <td>128</td>\n      <td>8085989.5</td>\n    </tr>\n    <tr>\n      <th>2</th>\n      <td>55712</td>\n      <td>135</td>\n      <td>5574642.1</td>\n    </tr>\n    <tr>\n      <th>3</th>\n      <td>32316</td>\n      <td>359</td>\n      <td>3232561.2</td>\n    </tr>\n    <tr>\n      <th>4</th>\n      <td>70429</td>\n      <td>292</td>\n      <td>7055052.0</td>\n    </tr>\n  </tbody>\n</table>\n</div>"
     },
     "execution_count": 14,
     "metadata": {},
     "output_type": "execute_result"
    }
   ],
   "source": [
    "df_dtr.head()"
   ],
   "metadata": {
    "collapsed": false,
    "ExecuteTime": {
     "end_time": "2023-06-26T19:52:29.838548Z",
     "start_time": "2023-06-26T19:52:29.836187Z"
    }
   }
  },
  {
   "cell_type": "markdown",
   "source": [
    "#### Splitting the data"
   ],
   "metadata": {
    "collapsed": false
   }
  },
  {
   "cell_type": "code",
   "execution_count": 15,
   "outputs": [
    {
     "data": {
      "text/plain": "   squareMeters    garage\n0      0.891562  1.537488\n1      1.073956 -1.622370\n2      0.203033 -1.595657\n3     -0.610092 -0.740816\n4      0.714521 -0.996505",
      "text/html": "<div>\n<style scoped>\n    .dataframe tbody tr th:only-of-type {\n        vertical-align: middle;\n    }\n\n    .dataframe tbody tr th {\n        vertical-align: top;\n    }\n\n    .dataframe thead th {\n        text-align: right;\n    }\n</style>\n<table border=\"1\" class=\"dataframe\">\n  <thead>\n    <tr style=\"text-align: right;\">\n      <th></th>\n      <th>squareMeters</th>\n      <th>garage</th>\n    </tr>\n  </thead>\n  <tbody>\n    <tr>\n      <th>0</th>\n      <td>0.891562</td>\n      <td>1.537488</td>\n    </tr>\n    <tr>\n      <th>1</th>\n      <td>1.073956</td>\n      <td>-1.622370</td>\n    </tr>\n    <tr>\n      <th>2</th>\n      <td>0.203033</td>\n      <td>-1.595657</td>\n    </tr>\n    <tr>\n      <th>3</th>\n      <td>-0.610092</td>\n      <td>-0.740816</td>\n    </tr>\n    <tr>\n      <th>4</th>\n      <td>0.714521</td>\n      <td>-0.996505</td>\n    </tr>\n  </tbody>\n</table>\n</div>"
     },
     "execution_count": 15,
     "metadata": {},
     "output_type": "execute_result"
    }
   ],
   "source": [
    "from sklearn.preprocessing import StandardScaler\n",
    "\n",
    "scaler = StandardScaler()\n",
    "scaler.fit(df_dtr.drop('price', axis=1))\n",
    "scaled_features = scaler.transform(df_dtr.drop('price', axis=1))\n",
    "df_feat = pd.DataFrame(scaled_features, columns=df_dtr.columns[:-1])\n",
    "df_feat.head()"
   ],
   "metadata": {
    "collapsed": false,
    "ExecuteTime": {
     "end_time": "2023-06-26T19:53:06.562380Z",
     "start_time": "2023-06-26T19:53:06.305486Z"
    }
   }
  },
  {
   "cell_type": "code",
   "execution_count": 16,
   "outputs": [],
   "source": [
    "from sklearn.model_selection import train_test_split\n",
    "\n",
    "X = df_feat\n",
    "y = df_dtr['price']\n",
    "X_train, X_test, y_train, y_test = train_test_split(X, y, test_size=0.3, random_state=101)"
   ],
   "metadata": {
    "collapsed": false,
    "ExecuteTime": {
     "end_time": "2023-06-26T19:53:17.829992Z",
     "start_time": "2023-06-26T19:53:17.569693Z"
    }
   }
  },
  {
   "cell_type": "code",
   "execution_count": 17,
   "outputs": [],
   "source": [
    "from sklearn.tree import DecisionTreeRegressor\n",
    "\n",
    "dtr = DecisionTreeRegressor()"
   ],
   "metadata": {
    "collapsed": false,
    "ExecuteTime": {
     "end_time": "2023-06-26T19:53:24.091085Z",
     "start_time": "2023-06-26T19:53:23.706532Z"
    }
   }
  },
  {
   "cell_type": "code",
   "execution_count": 18,
   "outputs": [
    {
     "data": {
      "text/plain": "DecisionTreeRegressor()",
      "text/html": "<style>#sk-container-id-1 {color: black;background-color: white;}#sk-container-id-1 pre{padding: 0;}#sk-container-id-1 div.sk-toggleable {background-color: white;}#sk-container-id-1 label.sk-toggleable__label {cursor: pointer;display: block;width: 100%;margin-bottom: 0;padding: 0.3em;box-sizing: border-box;text-align: center;}#sk-container-id-1 label.sk-toggleable__label-arrow:before {content: \"▸\";float: left;margin-right: 0.25em;color: #696969;}#sk-container-id-1 label.sk-toggleable__label-arrow:hover:before {color: black;}#sk-container-id-1 div.sk-estimator:hover label.sk-toggleable__label-arrow:before {color: black;}#sk-container-id-1 div.sk-toggleable__content {max-height: 0;max-width: 0;overflow: hidden;text-align: left;background-color: #f0f8ff;}#sk-container-id-1 div.sk-toggleable__content pre {margin: 0.2em;color: black;border-radius: 0.25em;background-color: #f0f8ff;}#sk-container-id-1 input.sk-toggleable__control:checked~div.sk-toggleable__content {max-height: 200px;max-width: 100%;overflow: auto;}#sk-container-id-1 input.sk-toggleable__control:checked~label.sk-toggleable__label-arrow:before {content: \"▾\";}#sk-container-id-1 div.sk-estimator input.sk-toggleable__control:checked~label.sk-toggleable__label {background-color: #d4ebff;}#sk-container-id-1 div.sk-label input.sk-toggleable__control:checked~label.sk-toggleable__label {background-color: #d4ebff;}#sk-container-id-1 input.sk-hidden--visually {border: 0;clip: rect(1px 1px 1px 1px);clip: rect(1px, 1px, 1px, 1px);height: 1px;margin: -1px;overflow: hidden;padding: 0;position: absolute;width: 1px;}#sk-container-id-1 div.sk-estimator {font-family: monospace;background-color: #f0f8ff;border: 1px dotted black;border-radius: 0.25em;box-sizing: border-box;margin-bottom: 0.5em;}#sk-container-id-1 div.sk-estimator:hover {background-color: #d4ebff;}#sk-container-id-1 div.sk-parallel-item::after {content: \"\";width: 100%;border-bottom: 1px solid gray;flex-grow: 1;}#sk-container-id-1 div.sk-label:hover label.sk-toggleable__label {background-color: #d4ebff;}#sk-container-id-1 div.sk-serial::before {content: \"\";position: absolute;border-left: 1px solid gray;box-sizing: border-box;top: 0;bottom: 0;left: 50%;z-index: 0;}#sk-container-id-1 div.sk-serial {display: flex;flex-direction: column;align-items: center;background-color: white;padding-right: 0.2em;padding-left: 0.2em;position: relative;}#sk-container-id-1 div.sk-item {position: relative;z-index: 1;}#sk-container-id-1 div.sk-parallel {display: flex;align-items: stretch;justify-content: center;background-color: white;position: relative;}#sk-container-id-1 div.sk-item::before, #sk-container-id-1 div.sk-parallel-item::before {content: \"\";position: absolute;border-left: 1px solid gray;box-sizing: border-box;top: 0;bottom: 0;left: 50%;z-index: -1;}#sk-container-id-1 div.sk-parallel-item {display: flex;flex-direction: column;z-index: 1;position: relative;background-color: white;}#sk-container-id-1 div.sk-parallel-item:first-child::after {align-self: flex-end;width: 50%;}#sk-container-id-1 div.sk-parallel-item:last-child::after {align-self: flex-start;width: 50%;}#sk-container-id-1 div.sk-parallel-item:only-child::after {width: 0;}#sk-container-id-1 div.sk-dashed-wrapped {border: 1px dashed gray;margin: 0 0.4em 0.5em 0.4em;box-sizing: border-box;padding-bottom: 0.4em;background-color: white;}#sk-container-id-1 div.sk-label label {font-family: monospace;font-weight: bold;display: inline-block;line-height: 1.2em;}#sk-container-id-1 div.sk-label-container {text-align: center;}#sk-container-id-1 div.sk-container {/* jupyter's `normalize.less` sets `[hidden] { display: none; }` but bootstrap.min.css set `[hidden] { display: none !important; }` so we also need the `!important` here to be able to override the default hidden behavior on the sphinx rendered scikit-learn.org. See: https://github.com/scikit-learn/scikit-learn/issues/21755 */display: inline-block !important;position: relative;}#sk-container-id-1 div.sk-text-repr-fallback {display: none;}</style><div id=\"sk-container-id-1\" class=\"sk-top-container\"><div class=\"sk-text-repr-fallback\"><pre>DecisionTreeRegressor()</pre><b>In a Jupyter environment, please rerun this cell to show the HTML representation or trust the notebook. <br />On GitHub, the HTML representation is unable to render, please try loading this page with nbviewer.org.</b></div><div class=\"sk-container\" hidden><div class=\"sk-item\"><div class=\"sk-estimator sk-toggleable\"><input class=\"sk-toggleable__control sk-hidden--visually\" id=\"sk-estimator-id-1\" type=\"checkbox\" checked><label for=\"sk-estimator-id-1\" class=\"sk-toggleable__label sk-toggleable__label-arrow\">DecisionTreeRegressor</label><div class=\"sk-toggleable__content\"><pre>DecisionTreeRegressor()</pre></div></div></div></div></div>"
     },
     "execution_count": 18,
     "metadata": {},
     "output_type": "execute_result"
    }
   ],
   "source": [
    "dtr.fit(X_train, y_train)"
   ],
   "metadata": {
    "collapsed": false,
    "ExecuteTime": {
     "end_time": "2023-06-26T19:53:26.301236Z",
     "start_time": "2023-06-26T19:53:26.257567Z"
    }
   }
  },
  {
   "cell_type": "code",
   "execution_count": 19,
   "outputs": [],
   "source": [
    "predictions = dtr.predict(X_test)"
   ],
   "metadata": {
    "collapsed": false,
    "ExecuteTime": {
     "end_time": "2023-06-26T19:53:28.256038Z",
     "start_time": "2023-06-26T19:53:28.251524Z"
    }
   }
  },
  {
   "cell_type": "code",
   "execution_count": 20,
   "outputs": [
    {
     "data": {
      "text/plain": "<matplotlib.collections.PathCollection at 0x147c6bb10>"
     },
     "execution_count": 20,
     "metadata": {},
     "output_type": "execute_result"
    },
    {
     "data": {
      "text/plain": "<Figure size 640x480 with 1 Axes>",
      "image/png": "[encoded data removed]"
     },
     "metadata": {},
     "output_type": "display_data"
    }
   ],
   "source": [
    "plt.scatter(y_test, predictions)"
   ],
   "metadata": {
    "collapsed": false,
    "ExecuteTime": {
     "end_time": "2023-06-26T19:53:30.041669Z",
     "start_time": "2023-06-26T19:53:29.839333Z"
    }
   }
  },
  {
   "cell_type": "code",
   "execution_count": 21,
   "outputs": [
    {
     "name": "stderr",
     "output_type": "stream",
     "text": [
      "/var/folders/0_/tlvjxx552z91kq03_j1fv8w80000gn/T/ipykernel_3070/5727784.py:1: UserWarning: \n",
      "\n",
      "`distplot` is a deprecated function and will be removed in seaborn v0.14.0.\n",
      "\n",
      "Please adapt your code to use either `displot` (a figure-level function with\n",
      "similar flexibility) or `histplot` (an axes-level function for histograms).\n",
      "\n",
      "For a guide to updating your code to use the new functions, please see\n",
      "https://gist.github.com/mwaskom/de44147ed2974457ad6372750bbe5751\n",
      "\n",
      "  sns.distplot((y_test-predictions), bins=50)\n"
     ]
    },
    {
     "data": {
      "text/plain": "<Axes: xlabel='price', ylabel='Density'>"
     },
     "execution_count": 21,
     "metadata": {},
     "output_type": "execute_result"
    },
    {
     "data": {
      "text/plain": "<Figure size 640x480 with 1 Axes>",
      "image/png": "[encoded data removed]"
     },
     "metadata": {},
     "output_type": "display_data"
    }
   ],
   "source": [
    "sns.distplot((y_test-predictions), bins=50)"
   ],
   "metadata": {
    "collapsed": false,
    "ExecuteTime": {
     "end_time": "2023-06-26T19:53:31.558752Z",
     "start_time": "2023-06-26T19:53:31.433774Z"
    }
   }
  },
  {
   "cell_type": "code",
   "execution_count": 22,
   "outputs": [],
   "source": [
    "from sklearn import metrics"
   ],
   "metadata": {
    "collapsed": false,
    "ExecuteTime": {
     "end_time": "2023-06-26T19:53:33.316474Z",
     "start_time": "2023-06-26T19:53:33.311625Z"
    }
   }
  },
  {
   "cell_type": "code",
   "execution_count": 23,
   "outputs": [
    {
     "name": "stdout",
     "output_type": "stream",
     "text": [
      "MAE: 3973.471200000004\n"
     ]
    }
   ],
   "source": [
    "print('MAE:', metrics.mean_absolute_error(y_test, predictions))"
   ],
   "metadata": {
    "collapsed": false,
    "ExecuteTime": {
     "end_time": "2023-06-26T19:53:35.034824Z",
     "start_time": "2023-06-26T19:53:35.031253Z"
    }
   }
  },
  {
   "cell_type": "code",
   "execution_count": 24,
   "outputs": [
    {
     "name": "stdout",
     "output_type": "stream",
     "text": [
      "MSE: 24672187.73706669\n"
     ]
    }
   ],
   "source": [
    "print('MSE:', metrics.mean_squared_error(y_test, predictions))"
   ],
   "metadata": {
    "collapsed": false,
    "ExecuteTime": {
     "end_time": "2023-06-26T19:53:36.413789Z",
     "start_time": "2023-06-26T19:53:36.410241Z"
    }
   }
  },
  {
   "cell_type": "code",
   "execution_count": 25,
   "outputs": [
    {
     "name": "stdout",
     "output_type": "stream",
     "text": [
      "RMSE: 4967.110602459612\n"
     ]
    }
   ],
   "source": [
    "print('RMSE:', np.sqrt(metrics.mean_squared_error(y_test, predictions)))"
   ],
   "metadata": {
    "collapsed": false,
    "ExecuteTime": {
     "end_time": "2023-06-26T19:53:38.119630Z",
     "start_time": "2023-06-26T19:53:38.115165Z"
    }
   }
  },
  {
   "cell_type": "code",
   "execution_count": 26,
   "outputs": [
    {
     "data": {
      "text/plain": "0.9999970273867911"
     },
     "execution_count": 26,
     "metadata": {},
     "output_type": "execute_result"
    }
   ],
   "source": [
    "metrics.explained_variance_score(y_test, predictions)"
   ],
   "metadata": {
    "collapsed": false,
    "ExecuteTime": {
     "end_time": "2023-06-26T19:53:39.834158Z",
     "start_time": "2023-06-26T19:53:39.830642Z"
    }
   }
  },
  {
   "cell_type": "code",
   "execution_count": 27,
   "outputs": [
    {
     "data": {
      "text/plain": "0.9999970223683344"
     },
     "execution_count": 27,
     "metadata": {},
     "output_type": "execute_result"
    }
   ],
   "source": [
    "metrics.r2_score(y_test, predictions)"
   ],
   "metadata": {
    "collapsed": false,
    "ExecuteTime": {
     "end_time": "2023-06-26T19:53:41.158372Z",
     "start_time": "2023-06-26T19:53:41.154489Z"
    }
   }
  },
  {
   "cell_type": "code",
   "execution_count": 28,
   "outputs": [
    {
     "data": {
      "text/plain": "17496.600000000093"
     },
     "execution_count": 28,
     "metadata": {},
     "output_type": "execute_result"
    }
   ],
   "source": [
    "metrics.max_error(y_test, predictions)"
   ],
   "metadata": {
    "collapsed": false,
    "ExecuteTime": {
     "end_time": "2023-06-26T19:53:43.075721Z",
     "start_time": "2023-06-26T19:53:43.071700Z"
    }
   }
  }
 ],
 "metadata": {
  "kernelspec": {
   "display_name": "Python 3",
   "language": "python",
   "name": "python3"
  },
  "language_info": {
   "codemirror_mode": {
    "name": "ipython",
    "version": 2
   },
   "file_extension": ".py",
   "mimetype": "text/x-python",
   "name": "python",
   "nbconvert_exporter": "python",
   "pygments_lexer": "ipython2",
   "version": "2.7.6"
  }
 },
 "nbformat": 4,
 "nbformat_minor": 0
}
